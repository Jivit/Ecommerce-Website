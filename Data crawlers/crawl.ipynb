{
 "cells": [
  {
   "cell_type": "code",
   "execution_count": 22,
   "metadata": {
    "collapsed": false
   },
   "outputs": [],
   "source": [
    "from lxml import html\n",
    "from pymongo import Connection\n",
    "import requests"
   ]
  },
  {
   "cell_type": "code",
   "execution_count": 23,
   "metadata": {
    "collapsed": false
   },
   "outputs": [],
   "source": [
    "page = requests.get('http://www.amazon.in/b?ie=UTF8&node=1388921031')\n",
    "tree = html.fromstring(page.content)"
   ]
  },
  {
   "cell_type": "code",
   "execution_count": 24,
   "metadata": {
    "collapsed": false
   },
   "outputs": [
    {
     "data": {
      "text/plain": [
       "['Sennheiser CX 180 Street II In-Ear Headphone  (Black)',\n",
       " 'Philips SHE1405BK/94 In-Ear Headphone Headset With Mic - Black',\n",
       " 'Sony MDR-ZX110A On-Ear Stereo Headphones (White)',\n",
       " 'JBL C100SI In-Ear Headphones with Mic (Black)',\n",
       " 'Philips SHE1360/97 In-Ear Headphone  (Black)',\n",
       " 'Philips SHE1455BK In-Ear Headphone With Mic (Black)',\n",
       " 'Philips SHE1350 In-Ear Headphones (Black)',\n",
       " 'Philips SBCHL140/98 On-Ear Headphone (Grey)',\n",
       " 'JBL C150SI In-ear earphone (Black)',\n",
       " 'JBL C300SI On-Ear Dynamic Wired Headphones (Black Color)',\n",
       " 'Sennheiser CX 275 S In -Ear Universal Mobile Headphone With Mic (Black)',\n",
       " 'Philips SHE1405WT/94 In-Ear Headphone  with Mic (White)',\n",
       " 'Sony MDR-XB250 On-Ear EXTRA BASS Headphones (Black)',\n",
       " 'House of Marley Smile Jamaica EM-JE041-SB In-Ear Headphones (Black) with Mic',\n",
       " 'JBL T-200 A In the Ear Headphone (Black)',\n",
       " 'Sony MDR-XB50AP In-Ear EXTRA BASS Headphones with Mic (Black)',\n",
       " 'Philips SHS390 On-Ear Stereo Headphone  (Black)',\n",
       " 'Sennheiser HD 202 II Professional Over-Ear Headphone (Black)',\n",
       " 'Skullcandy SCS2RFDA-074 In-Ear Headphone With Mic (Black and White)',\n",
       " 'Philips SHQ1200 ActionFit Sports In-Ear Headphones, Orange and Grey',\n",
       " 'Skullcandy S2DUL-J319 In-Ear Headphones with Mic (Lime/Grey)',\n",
       " 'Philips SHP1900/97 Over-Ear Stereo Headphone (Black)',\n",
       " 'Philips SHE1455WT In-Ear Headphone With Mic (White)',\n",
       " 'Sennheiser MX 170 Earphone']"
      ]
     },
     "execution_count": 24,
     "metadata": {},
     "output_type": "execute_result"
    }
   ],
   "source": [
    "product = tree.xpath('//h2[@class=\"a-size-base a-color-null s-inline  s-access-title  a-text-normal\"]/text()')\n",
    "prices = tree.xpath('//span[@class=\"a-size-base a-color-price s-price a-text-bold\"]/text()')\n",
    "\n",
    "product"
   ]
  },
  {
   "cell_type": "code",
   "execution_count": 25,
   "metadata": {
    "collapsed": false
   },
   "outputs": [
    {
     "data": {
      "text/plain": [
       "['809.00',\n",
       " '229.00',\n",
       " '555.00',\n",
       " '819.00',\n",
       " '101.00',\n",
       " '296.00',\n",
       " '96.00',\n",
       " '264.00',\n",
       " '825.00',\n",
       " '819.00',\n",
       " '1,639.00',\n",
       " '302.00',\n",
       " '999.00',\n",
       " '999.00',\n",
       " '1,075.00',\n",
       " '1,809.00',\n",
       " '349.00',\n",
       " '1,699.00',\n",
       " '899.00',\n",
       " '509.00',\n",
       " '699.00',\n",
       " '448.00',\n",
       " '302.00',\n",
       " '559.00']"
      ]
     },
     "execution_count": 25,
     "metadata": {},
     "output_type": "execute_result"
    }
   ],
   "source": [
    "prices"
   ]
  },
  {
   "cell_type": "code",
   "execution_count": 26,
   "metadata": {
    "collapsed": false
   },
   "outputs": [
    {
     "data": {
      "text/plain": [
       "['http://ecx.images-amazon.com/images/I/31LPmQMJm0L._AC_US160_.jpg',\n",
       " 'http://ecx.images-amazon.com/images/I/41TqRAgnxsL._AC_US160_.jpg',\n",
       " 'http://ecx.images-amazon.com/images/I/31NHZs+yi7L._AC_US160_.jpg',\n",
       " 'http://ecx.images-amazon.com/images/I/21vZXb-pU9L._AC_US160_.jpg',\n",
       " 'http://ecx.images-amazon.com/images/I/41KNvJhpjoL._AC_US160_.jpg',\n",
       " 'http://ecx.images-amazon.com/images/I/315eP5oeRbL._AC_US160_.jpg',\n",
       " 'http://ecx.images-amazon.com/images/I/41L4z7UguhL._AC_US160_.jpg',\n",
       " 'http://ecx.images-amazon.com/images/I/31xhpXjSZaL._AC_US160_.jpg',\n",
       " 'http://ecx.images-amazon.com/images/I/21vZXb-pU9L._AC_US160_.jpg',\n",
       " 'http://ecx.images-amazon.com/images/I/41euzLv5dsL._AC_US160_.jpg',\n",
       " 'http://ecx.images-amazon.com/images/I/419Mt+rdVfL._AC_US160_.jpg',\n",
       " 'http://ecx.images-amazon.com/images/I/312UcLAjRuL._AC_US160_.jpg',\n",
       " 'http://ecx.images-amazon.com/images/I/416iAbX85ML._AC_US160_.jpg',\n",
       " 'http://ecx.images-amazon.com/images/I/41vnm9Km26L._AC_US160_.jpg',\n",
       " 'http://ecx.images-amazon.com/images/I/3139-mTqlML._AC_US160_.jpg',\n",
       " 'http://ecx.images-amazon.com/images/I/41sqpwRMy-L._AC_US160_.jpg',\n",
       " 'http://ecx.images-amazon.com/images/I/41X6EP4vRML._AC_US160_.jpg',\n",
       " 'http://ecx.images-amazon.com/images/I/41EOdcYqT3L._AC_US160_.jpg',\n",
       " 'http://ecx.images-amazon.com/images/I/31hiTzEvK7L._AC_US160_.jpg',\n",
       " 'http://ecx.images-amazon.com/images/I/310TryF0O6L._AC_US160_.jpg',\n",
       " 'http://ecx.images-amazon.com/images/I/31ytViyzVHL._AC_US160_.jpg',\n",
       " 'http://ecx.images-amazon.com/images/I/41bU3YsekPL._AC_US160_.jpg',\n",
       " 'http://ecx.images-amazon.com/images/I/21azCnL6IfL._AC_US160_.jpg',\n",
       " 'http://ecx.images-amazon.com/images/I/31T0uuy6hfL._AC_US160_.jpg']"
      ]
     },
     "execution_count": 26,
     "metadata": {},
     "output_type": "execute_result"
    }
   ],
   "source": [
    "images = tree.xpath('//img[@class=\"s-access-image cfMarker\"]/@src')\n",
    "\n",
    "images"
   ]
  },
  {
   "cell_type": "code",
   "execution_count": 27,
   "metadata": {
    "collapsed": false
   },
   "outputs": [
    {
     "data": {
      "text/plain": [
       "['990.00',\n",
       " '349.00',\n",
       " '1,300.00',\n",
       " '1,299.00',\n",
       " '146.00',\n",
       " '449.00',\n",
       " '199.00',\n",
       " '295.00',\n",
       " '1,999.00',\n",
       " '2,999.00',\n",
       " '2,190.00',\n",
       " '349.00',\n",
       " '1,490.00',\n",
       " '1,990.00',\n",
       " '1,999.00',\n",
       " '2,990.00',\n",
       " '499.00',\n",
       " '2,490.00',\n",
       " '1,399.00',\n",
       " '649.00',\n",
       " '1,099.00',\n",
       " '699.00',\n",
       " '449.00',\n",
       " '690.00']"
      ]
     },
     "execution_count": 27,
     "metadata": {},
     "output_type": "execute_result"
    }
   ],
   "source": [
    "orig_p = tree.xpath('//span[@class=\"a-size-small a-color-secondary a-text-strike\"]/text()')\n",
    "orig_p"
   ]
  },
  {
   "cell_type": "code",
   "execution_count": 28,
   "metadata": {
    "collapsed": false
   },
   "outputs": [
    {
     "name": "stdout",
     "output_type": "stream",
     "text": [
      "24 24 24 24\n"
     ]
    }
   ],
   "source": [
    "print len(product), len(prices), len(images), len(orig_p)"
   ]
  },
  {
   "cell_type": "code",
   "execution_count": 29,
   "metadata": {
    "collapsed": false
   },
   "outputs": [
    {
     "data": {
      "text/plain": [
       "[{'Image': 'http://ecx.images-amazon.com/images/I/31LPmQMJm0L._AC_US160_.jpg',\n",
       "  'Name': 'Sennheiser CX 180 Street II In-Ear Headphone  (Black)',\n",
       "  'Orig_price': '990.00',\n",
       "  'Price': '809.00'},\n",
       " {'Image': 'http://ecx.images-amazon.com/images/I/41TqRAgnxsL._AC_US160_.jpg',\n",
       "  'Name': 'Philips SHE1405BK/94 In-Ear Headphone Headset With Mic - Black',\n",
       "  'Orig_price': '349.00',\n",
       "  'Price': '229.00'},\n",
       " {'Image': 'http://ecx.images-amazon.com/images/I/31NHZs+yi7L._AC_US160_.jpg',\n",
       "  'Name': 'Sony MDR-ZX110A On-Ear Stereo Headphones (White)',\n",
       "  'Orig_price': '1,300.00',\n",
       "  'Price': '555.00'},\n",
       " {'Image': 'http://ecx.images-amazon.com/images/I/21vZXb-pU9L._AC_US160_.jpg',\n",
       "  'Name': 'JBL C100SI In-Ear Headphones with Mic (Black)',\n",
       "  'Orig_price': '1,299.00',\n",
       "  'Price': '819.00'},\n",
       " {'Image': 'http://ecx.images-amazon.com/images/I/41KNvJhpjoL._AC_US160_.jpg',\n",
       "  'Name': 'Philips SHE1360/97 In-Ear Headphone  (Black)',\n",
       "  'Orig_price': '146.00',\n",
       "  'Price': '101.00'},\n",
       " {'Image': 'http://ecx.images-amazon.com/images/I/315eP5oeRbL._AC_US160_.jpg',\n",
       "  'Name': 'Philips SHE1455BK In-Ear Headphone With Mic (Black)',\n",
       "  'Orig_price': '449.00',\n",
       "  'Price': '296.00'},\n",
       " {'Image': 'http://ecx.images-amazon.com/images/I/41L4z7UguhL._AC_US160_.jpg',\n",
       "  'Name': 'Philips SHE1350 In-Ear Headphones (Black)',\n",
       "  'Orig_price': '199.00',\n",
       "  'Price': '96.00'},\n",
       " {'Image': 'http://ecx.images-amazon.com/images/I/31xhpXjSZaL._AC_US160_.jpg',\n",
       "  'Name': 'Philips SBCHL140/98 On-Ear Headphone (Grey)',\n",
       "  'Orig_price': '295.00',\n",
       "  'Price': '264.00'},\n",
       " {'Image': 'http://ecx.images-amazon.com/images/I/21vZXb-pU9L._AC_US160_.jpg',\n",
       "  'Name': 'JBL C150SI In-ear earphone (Black)',\n",
       "  'Orig_price': '1,999.00',\n",
       "  'Price': '825.00'},\n",
       " {'Image': 'http://ecx.images-amazon.com/images/I/41euzLv5dsL._AC_US160_.jpg',\n",
       "  'Name': 'JBL C300SI On-Ear Dynamic Wired Headphones (Black Color)',\n",
       "  'Orig_price': '2,999.00',\n",
       "  'Price': '819.00'},\n",
       " {'Image': 'http://ecx.images-amazon.com/images/I/419Mt+rdVfL._AC_US160_.jpg',\n",
       "  'Name': 'Sennheiser CX 275 S In -Ear Universal Mobile Headphone With Mic (Black)',\n",
       "  'Orig_price': '2,190.00',\n",
       "  'Price': '1,639.00'},\n",
       " {'Image': 'http://ecx.images-amazon.com/images/I/312UcLAjRuL._AC_US160_.jpg',\n",
       "  'Name': 'Philips SHE1405WT/94 In-Ear Headphone  with Mic (White)',\n",
       "  'Orig_price': '349.00',\n",
       "  'Price': '302.00'},\n",
       " {'Image': 'http://ecx.images-amazon.com/images/I/416iAbX85ML._AC_US160_.jpg',\n",
       "  'Name': 'Sony MDR-XB250 On-Ear EXTRA BASS Headphones (Black)',\n",
       "  'Orig_price': '1,490.00',\n",
       "  'Price': '999.00'},\n",
       " {'Image': 'http://ecx.images-amazon.com/images/I/41vnm9Km26L._AC_US160_.jpg',\n",
       "  'Name': 'House of Marley Smile Jamaica EM-JE041-SB In-Ear Headphones (Black) with Mic',\n",
       "  'Orig_price': '1,990.00',\n",
       "  'Price': '999.00'},\n",
       " {'Image': 'http://ecx.images-amazon.com/images/I/3139-mTqlML._AC_US160_.jpg',\n",
       "  'Name': 'JBL T-200 A In the Ear Headphone (Black)',\n",
       "  'Orig_price': '1,999.00',\n",
       "  'Price': '1,075.00'},\n",
       " {'Image': 'http://ecx.images-amazon.com/images/I/41sqpwRMy-L._AC_US160_.jpg',\n",
       "  'Name': 'Sony MDR-XB50AP In-Ear EXTRA BASS Headphones with Mic (Black)',\n",
       "  'Orig_price': '2,990.00',\n",
       "  'Price': '1,809.00'},\n",
       " {'Image': 'http://ecx.images-amazon.com/images/I/41X6EP4vRML._AC_US160_.jpg',\n",
       "  'Name': 'Philips SHS390 On-Ear Stereo Headphone  (Black)',\n",
       "  'Orig_price': '499.00',\n",
       "  'Price': '349.00'},\n",
       " {'Image': 'http://ecx.images-amazon.com/images/I/41EOdcYqT3L._AC_US160_.jpg',\n",
       "  'Name': 'Sennheiser HD 202 II Professional Over-Ear Headphone (Black)',\n",
       "  'Orig_price': '2,490.00',\n",
       "  'Price': '1,699.00'},\n",
       " {'Image': 'http://ecx.images-amazon.com/images/I/31hiTzEvK7L._AC_US160_.jpg',\n",
       "  'Name': 'Skullcandy SCS2RFDA-074 In-Ear Headphone With Mic (Black and White)',\n",
       "  'Orig_price': '1,399.00',\n",
       "  'Price': '899.00'},\n",
       " {'Image': 'http://ecx.images-amazon.com/images/I/310TryF0O6L._AC_US160_.jpg',\n",
       "  'Name': 'Philips SHQ1200 ActionFit Sports In-Ear Headphones, Orange and Grey',\n",
       "  'Orig_price': '649.00',\n",
       "  'Price': '509.00'},\n",
       " {'Image': 'http://ecx.images-amazon.com/images/I/31ytViyzVHL._AC_US160_.jpg',\n",
       "  'Name': 'Skullcandy S2DUL-J319 In-Ear Headphones with Mic (Lime/Grey)',\n",
       "  'Orig_price': '1,099.00',\n",
       "  'Price': '699.00'},\n",
       " {'Image': 'http://ecx.images-amazon.com/images/I/41bU3YsekPL._AC_US160_.jpg',\n",
       "  'Name': 'Philips SHP1900/97 Over-Ear Stereo Headphone (Black)',\n",
       "  'Orig_price': '699.00',\n",
       "  'Price': '448.00'},\n",
       " {'Image': 'http://ecx.images-amazon.com/images/I/21azCnL6IfL._AC_US160_.jpg',\n",
       "  'Name': 'Philips SHE1455WT In-Ear Headphone With Mic (White)',\n",
       "  'Orig_price': '449.00',\n",
       "  'Price': '302.00'},\n",
       " {'Image': 'http://ecx.images-amazon.com/images/I/31T0uuy6hfL._AC_US160_.jpg',\n",
       "  'Name': 'Sennheiser MX 170 Earphone',\n",
       "  'Orig_price': '690.00',\n",
       "  'Price': '559.00'}]"
      ]
     },
     "execution_count": 29,
     "metadata": {},
     "output_type": "execute_result"
    }
   ],
   "source": [
    "records = [ ]\n",
    "\n",
    "for i in range(len(product)):\n",
    "    temp = {\"Name\" : product[i], \"Price\" : prices[i], \"Image\" : images[i], \"Orig_price\" : orig_p[i]}\n",
    "    records.append(temp)\n",
    "    \n",
    "records"
   ]
  },
  {
   "cell_type": "code",
   "execution_count": 30,
   "metadata": {
    "collapsed": false
   },
   "outputs": [
    {
     "data": {
      "text/plain": [
       "24"
      ]
     },
     "execution_count": 30,
     "metadata": {},
     "output_type": "execute_result"
    }
   ],
   "source": [
    "len(records)"
   ]
  },
  {
   "cell_type": "code",
   "execution_count": 31,
   "metadata": {
    "collapsed": true
   },
   "outputs": [],
   "source": [
    "connection = Connection()\n",
    "db = connection.product_database"
   ]
  },
  {
   "cell_type": "code",
   "execution_count": 32,
   "metadata": {
    "collapsed": false
   },
   "outputs": [
    {
     "data": {
      "text/plain": [
       "[ObjectId('584d3d9a458eed1a446bf8dd'),\n",
       " ObjectId('584d3d9a458eed1a446bf8de'),\n",
       " ObjectId('584d3d9a458eed1a446bf8df'),\n",
       " ObjectId('584d3d9a458eed1a446bf8e0'),\n",
       " ObjectId('584d3d9a458eed1a446bf8e1'),\n",
       " ObjectId('584d3d9a458eed1a446bf8e2'),\n",
       " ObjectId('584d3d9a458eed1a446bf8e3'),\n",
       " ObjectId('584d3d9a458eed1a446bf8e4'),\n",
       " ObjectId('584d3d9a458eed1a446bf8e5'),\n",
       " ObjectId('584d3d9a458eed1a446bf8e6'),\n",
       " ObjectId('584d3d9a458eed1a446bf8e7'),\n",
       " ObjectId('584d3d9a458eed1a446bf8e8'),\n",
       " ObjectId('584d3d9a458eed1a446bf8e9'),\n",
       " ObjectId('584d3d9a458eed1a446bf8ea'),\n",
       " ObjectId('584d3d9a458eed1a446bf8eb'),\n",
       " ObjectId('584d3d9a458eed1a446bf8ec'),\n",
       " ObjectId('584d3d9a458eed1a446bf8ed'),\n",
       " ObjectId('584d3d9a458eed1a446bf8ee'),\n",
       " ObjectId('584d3d9a458eed1a446bf8ef'),\n",
       " ObjectId('584d3d9a458eed1a446bf8f0'),\n",
       " ObjectId('584d3d9a458eed1a446bf8f1'),\n",
       " ObjectId('584d3d9a458eed1a446bf8f2'),\n",
       " ObjectId('584d3d9a458eed1a446bf8f3'),\n",
       " ObjectId('584d3d9a458eed1a446bf8f4')]"
      ]
     },
     "execution_count": 32,
     "metadata": {},
     "output_type": "execute_result"
    }
   ],
   "source": [
    "posts = db.Products\n",
    "posts.insert(records)"
   ]
  },
  {
   "cell_type": "code",
   "execution_count": 34,
   "metadata": {
    "collapsed": false
   },
   "outputs": [
    {
     "data": {
      "text/plain": [
       "{u'Image': u'http://ecx.images-amazon.com/images/I/31LPmQMJm0L._AC_US160_.jpg',\n",
       " u'Name': u'Sennheiser CX 180 Street II In-Ear Headphone  (Black)',\n",
       " u'Orig_price': u'990.00',\n",
       " u'Price': u'809.00',\n",
       " u'_id': ObjectId('584d3d9a458eed1a446bf8dd')}"
      ]
     },
     "execution_count": 34,
     "metadata": {},
     "output_type": "execute_result"
    }
   ],
   "source": [
    "posts.find_one()"
   ]
  },
  {
   "cell_type": "code",
   "execution_count": 35,
   "metadata": {
    "collapsed": false
   },
   "outputs": [
    {
     "name": "stdout",
     "output_type": "stream",
     "text": [
      "{u'Image': u'http://ecx.images-amazon.com/images/I/31LPmQMJm0L._AC_US160_.jpg', u'_id': ObjectId('584d3d9a458eed1a446bf8dd'), u'Orig_price': u'990.00', u'Price': u'809.00', u'Name': u'Sennheiser CX 180 Street II In-Ear Headphone  (Black)'}\n",
      "{u'Image': u'http://ecx.images-amazon.com/images/I/41TqRAgnxsL._AC_US160_.jpg', u'_id': ObjectId('584d3d9a458eed1a446bf8de'), u'Orig_price': u'349.00', u'Price': u'229.00', u'Name': u'Philips SHE1405BK/94 In-Ear Headphone Headset With Mic - Black'}\n",
      "{u'Image': u'http://ecx.images-amazon.com/images/I/31NHZs+yi7L._AC_US160_.jpg', u'_id': ObjectId('584d3d9a458eed1a446bf8df'), u'Orig_price': u'1,300.00', u'Price': u'555.00', u'Name': u'Sony MDR-ZX110A On-Ear Stereo Headphones (White)'}\n",
      "{u'Image': u'http://ecx.images-amazon.com/images/I/21vZXb-pU9L._AC_US160_.jpg', u'_id': ObjectId('584d3d9a458eed1a446bf8e0'), u'Orig_price': u'1,299.00', u'Price': u'819.00', u'Name': u'JBL C100SI In-Ear Headphones with Mic (Black)'}\n",
      "{u'Image': u'http://ecx.images-amazon.com/images/I/41KNvJhpjoL._AC_US160_.jpg', u'_id': ObjectId('584d3d9a458eed1a446bf8e1'), u'Orig_price': u'146.00', u'Price': u'101.00', u'Name': u'Philips SHE1360/97 In-Ear Headphone  (Black)'}\n",
      "{u'Image': u'http://ecx.images-amazon.com/images/I/315eP5oeRbL._AC_US160_.jpg', u'_id': ObjectId('584d3d9a458eed1a446bf8e2'), u'Orig_price': u'449.00', u'Price': u'296.00', u'Name': u'Philips SHE1455BK In-Ear Headphone With Mic (Black)'}\n",
      "{u'Image': u'http://ecx.images-amazon.com/images/I/41L4z7UguhL._AC_US160_.jpg', u'_id': ObjectId('584d3d9a458eed1a446bf8e3'), u'Orig_price': u'199.00', u'Price': u'96.00', u'Name': u'Philips SHE1350 In-Ear Headphones (Black)'}\n",
      "{u'Image': u'http://ecx.images-amazon.com/images/I/31xhpXjSZaL._AC_US160_.jpg', u'_id': ObjectId('584d3d9a458eed1a446bf8e4'), u'Orig_price': u'295.00', u'Price': u'264.00', u'Name': u'Philips SBCHL140/98 On-Ear Headphone (Grey)'}\n",
      "{u'Image': u'http://ecx.images-amazon.com/images/I/21vZXb-pU9L._AC_US160_.jpg', u'_id': ObjectId('584d3d9a458eed1a446bf8e5'), u'Orig_price': u'1,999.00', u'Price': u'825.00', u'Name': u'JBL C150SI In-ear earphone (Black)'}\n",
      "{u'Image': u'http://ecx.images-amazon.com/images/I/41euzLv5dsL._AC_US160_.jpg', u'_id': ObjectId('584d3d9a458eed1a446bf8e6'), u'Orig_price': u'2,999.00', u'Price': u'819.00', u'Name': u'JBL C300SI On-Ear Dynamic Wired Headphones (Black Color)'}\n",
      "{u'Image': u'http://ecx.images-amazon.com/images/I/419Mt+rdVfL._AC_US160_.jpg', u'_id': ObjectId('584d3d9a458eed1a446bf8e7'), u'Orig_price': u'2,190.00', u'Price': u'1,639.00', u'Name': u'Sennheiser CX 275 S In -Ear Universal Mobile Headphone With Mic (Black)'}\n",
      "{u'Image': u'http://ecx.images-amazon.com/images/I/312UcLAjRuL._AC_US160_.jpg', u'_id': ObjectId('584d3d9a458eed1a446bf8e8'), u'Orig_price': u'349.00', u'Price': u'302.00', u'Name': u'Philips SHE1405WT/94 In-Ear Headphone  with Mic (White)'}\n",
      "{u'Image': u'http://ecx.images-amazon.com/images/I/416iAbX85ML._AC_US160_.jpg', u'_id': ObjectId('584d3d9a458eed1a446bf8e9'), u'Orig_price': u'1,490.00', u'Price': u'999.00', u'Name': u'Sony MDR-XB250 On-Ear EXTRA BASS Headphones (Black)'}\n",
      "{u'Image': u'http://ecx.images-amazon.com/images/I/41vnm9Km26L._AC_US160_.jpg', u'_id': ObjectId('584d3d9a458eed1a446bf8ea'), u'Orig_price': u'1,990.00', u'Price': u'999.00', u'Name': u'House of Marley Smile Jamaica EM-JE041-SB In-Ear Headphones (Black) with Mic'}\n",
      "{u'Image': u'http://ecx.images-amazon.com/images/I/3139-mTqlML._AC_US160_.jpg', u'_id': ObjectId('584d3d9a458eed1a446bf8eb'), u'Orig_price': u'1,999.00', u'Price': u'1,075.00', u'Name': u'JBL T-200 A In the Ear Headphone (Black)'}\n",
      "{u'Image': u'http://ecx.images-amazon.com/images/I/41sqpwRMy-L._AC_US160_.jpg', u'_id': ObjectId('584d3d9a458eed1a446bf8ec'), u'Orig_price': u'2,990.00', u'Price': u'1,809.00', u'Name': u'Sony MDR-XB50AP In-Ear EXTRA BASS Headphones with Mic (Black)'}\n",
      "{u'Image': u'http://ecx.images-amazon.com/images/I/41X6EP4vRML._AC_US160_.jpg', u'_id': ObjectId('584d3d9a458eed1a446bf8ed'), u'Orig_price': u'499.00', u'Price': u'349.00', u'Name': u'Philips SHS390 On-Ear Stereo Headphone  (Black)'}\n",
      "{u'Image': u'http://ecx.images-amazon.com/images/I/41EOdcYqT3L._AC_US160_.jpg', u'_id': ObjectId('584d3d9a458eed1a446bf8ee'), u'Orig_price': u'2,490.00', u'Price': u'1,699.00', u'Name': u'Sennheiser HD 202 II Professional Over-Ear Headphone (Black)'}\n",
      "{u'Image': u'http://ecx.images-amazon.com/images/I/31hiTzEvK7L._AC_US160_.jpg', u'_id': ObjectId('584d3d9a458eed1a446bf8ef'), u'Orig_price': u'1,399.00', u'Price': u'899.00', u'Name': u'Skullcandy SCS2RFDA-074 In-Ear Headphone With Mic (Black and White)'}\n",
      "{u'Image': u'http://ecx.images-amazon.com/images/I/310TryF0O6L._AC_US160_.jpg', u'_id': ObjectId('584d3d9a458eed1a446bf8f0'), u'Orig_price': u'649.00', u'Price': u'509.00', u'Name': u'Philips SHQ1200 ActionFit Sports In-Ear Headphones, Orange and Grey'}\n",
      "{u'Image': u'http://ecx.images-amazon.com/images/I/31ytViyzVHL._AC_US160_.jpg', u'_id': ObjectId('584d3d9a458eed1a446bf8f1'), u'Orig_price': u'1,099.00', u'Price': u'699.00', u'Name': u'Skullcandy S2DUL-J319 In-Ear Headphones with Mic (Lime/Grey)'}\n",
      "{u'Image': u'http://ecx.images-amazon.com/images/I/41bU3YsekPL._AC_US160_.jpg', u'_id': ObjectId('584d3d9a458eed1a446bf8f2'), u'Orig_price': u'699.00', u'Price': u'448.00', u'Name': u'Philips SHP1900/97 Over-Ear Stereo Headphone (Black)'}\n",
      "{u'Image': u'http://ecx.images-amazon.com/images/I/21azCnL6IfL._AC_US160_.jpg', u'_id': ObjectId('584d3d9a458eed1a446bf8f3'), u'Orig_price': u'449.00', u'Price': u'302.00', u'Name': u'Philips SHE1455WT In-Ear Headphone With Mic (White)'}\n",
      "{u'Image': u'http://ecx.images-amazon.com/images/I/31T0uuy6hfL._AC_US160_.jpg', u'_id': ObjectId('584d3d9a458eed1a446bf8f4'), u'Orig_price': u'690.00', u'Price': u'559.00', u'Name': u'Sennheiser MX 170 Earphone'}\n"
     ]
    }
   ],
   "source": [
    "cursor = db.Products.find()\n",
    "for document in cursor:\n",
    "    print(document)"
   ]
  },
  {
   "cell_type": "code",
   "execution_count": null,
   "metadata": {
    "collapsed": true
   },
   "outputs": [],
   "source": []
  }
 ],
 "metadata": {
  "kernelspec": {
   "display_name": "Python 2",
   "language": "python",
   "name": "python2"
  },
  "language_info": {
   "codemirror_mode": {
    "name": "ipython",
    "version": 2
   },
   "file_extension": ".py",
   "mimetype": "text/x-python",
   "name": "python",
   "nbconvert_exporter": "python",
   "pygments_lexer": "ipython2",
   "version": "2.7.12"
  }
 },
 "nbformat": 4,
 "nbformat_minor": 1
}
