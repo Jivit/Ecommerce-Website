{
 "cells": [
  {
   "cell_type": "code",
   "execution_count": 9,
   "metadata": {
    "collapsed": false
   },
   "outputs": [],
   "source": [
    "from lxml import html\n",
    "import requests"
   ]
  },
  {
   "cell_type": "code",
   "execution_count": 10,
   "metadata": {
    "collapsed": false
   },
   "outputs": [],
   "source": [
    "page = requests.get('http://www.amazon.in/b?ie=UTF8&node=1388921031')\n",
    "tree = html.fromstring(page2.content)"
   ]
  },
  {
   "cell_type": "code",
   "execution_count": 11,
   "metadata": {
    "collapsed": false
   },
   "outputs": [
    {
     "data": {
      "text/plain": [
       "['Sennheiser CX 180 Street II In-Ear Headphone  (Black)',\n",
       " 'Philips SHE1405BK/94 In-Ear Headphone Headset With Mic - Black',\n",
       " 'Sony MDR-ZX110A On-Ear Stereo Headphones (White)',\n",
       " 'JBL C100SI In-Ear Headphones with Mic (Black)',\n",
       " 'Philips SHE1360/97 In-Ear Headphone  (Black)',\n",
       " 'Philips SHE1455BK In-Ear Headphone With Mic (Black)',\n",
       " 'Philips SHE1350 In-Ear Headphones (Black)',\n",
       " 'JBL C150SI In-ear earphone (Black)',\n",
       " 'Philips SBCHL140/98 On-Ear Headphone (Grey)',\n",
       " 'Sennheiser CX 275 S In -Ear Universal Mobile Headphone With Mic (Black)',\n",
       " 'Philips SHE1405WT/94 In-Ear Headphone  with Mic (White)',\n",
       " 'JBL C300SI On-Ear Dynamic Wired Headphones (Black Color)',\n",
       " 'House of Marley Smile Jamaica EM-JE041-SB In-Ear Headphones (Black) with Mic',\n",
       " 'JBL T-200 A In the Ear Headphone (Black)',\n",
       " 'Sennheiser HD 202 II Professional Over-Ear Headphone (Black)',\n",
       " 'Sony MDR-XB250 On-Ear EXTRA BASS Headphones (Black)',\n",
       " 'Skullcandy SCS2RFDA-074 In-Ear Headphone With Mic (Black and White)',\n",
       " 'Skullcandy S2DUL-J319 In-Ear Headphones with Mic (Lime/Grey)',\n",
       " 'Philips SHQ1200 ActionFit Sports In-Ear Headphones, Orange and Grey',\n",
       " 'Philips SHE1455WT In-Ear Headphone With Mic (White)',\n",
       " 'Sony MDR-XB50AP In-Ear EXTRA BASS Headphones with Mic (Black)',\n",
       " 'Philips SHP1900/97 Over-Ear Stereo Headphone (Black)',\n",
       " 'Philips SHS390 On-Ear Stereo Headphone  (Black)',\n",
       " 'Sony MDR-ZX110 On-Ear Stereo Headphones (Black)']"
      ]
     },
     "execution_count": 11,
     "metadata": {},
     "output_type": "execute_result"
    }
   ],
   "source": [
    "product = tree.xpath('//h2[@class=\"a-size-base a-color-null s-inline  s-access-title  a-text-normal\"]/text()')\n",
    "prices = tree.xpath('//span[@class=\"a-size-base a-color-price s-price a-text-bold\"]/text()')\n",
    "\n",
    "product"
   ]
  },
  {
   "cell_type": "code",
   "execution_count": 12,
   "metadata": {
    "collapsed": false
   },
   "outputs": [
    {
     "data": {
      "text/plain": [
       "['809.00',\n",
       " '249.00',\n",
       " '539.00',\n",
       " '905.00',\n",
       " '101.00',\n",
       " '289.00',\n",
       " '96.00',\n",
       " '825.00',\n",
       " '264.00',\n",
       " '1,639.00',\n",
       " '302.00',\n",
       " '819.00',\n",
       " '999.00',\n",
       " '1,085.00',\n",
       " '1,699.00',\n",
       " '999.00',\n",
       " '899.00',\n",
       " '699.00',\n",
       " '519.00',\n",
       " '302.00',\n",
       " '1,809.00',\n",
       " '448.00',\n",
       " '349.00',\n",
       " '789.00']"
      ]
     },
     "execution_count": 12,
     "metadata": {},
     "output_type": "execute_result"
    }
   ],
   "source": [
    "prices"
   ]
  },
  {
   "cell_type": "code",
   "execution_count": 13,
   "metadata": {
    "collapsed": false
   },
   "outputs": [
    {
     "data": {
      "text/plain": [
       "['http://ecx.images-amazon.com/images/I/31LPmQMJm0L._AC_US160_.jpg',\n",
       " 'http://ecx.images-amazon.com/images/I/41TqRAgnxsL._AC_US160_.jpg',\n",
       " 'http://ecx.images-amazon.com/images/I/31NHZs+yi7L._AC_US160_.jpg',\n",
       " 'http://ecx.images-amazon.com/images/I/21vZXb-pU9L._AC_US160_.jpg',\n",
       " 'http://ecx.images-amazon.com/images/I/41KNvJhpjoL._AC_US160_.jpg',\n",
       " 'http://ecx.images-amazon.com/images/I/315eP5oeRbL._AC_US160_.jpg',\n",
       " 'http://ecx.images-amazon.com/images/I/41L4z7UguhL._AC_US160_.jpg',\n",
       " 'http://ecx.images-amazon.com/images/I/21vZXb-pU9L._AC_US160_.jpg',\n",
       " 'http://ecx.images-amazon.com/images/I/31xhpXjSZaL._AC_US160_.jpg',\n",
       " 'http://ecx.images-amazon.com/images/I/419Mt+rdVfL._AC_US160_.jpg',\n",
       " 'http://ecx.images-amazon.com/images/I/312UcLAjRuL._AC_US160_.jpg',\n",
       " 'http://ecx.images-amazon.com/images/I/41euzLv5dsL._AC_US160_.jpg',\n",
       " 'http://ecx.images-amazon.com/images/I/41vnm9Km26L._AC_US160_.jpg',\n",
       " 'http://ecx.images-amazon.com/images/I/3139-mTqlML._AC_US160_.jpg',\n",
       " 'http://ecx.images-amazon.com/images/I/41EOdcYqT3L._AC_US160_.jpg',\n",
       " 'http://ecx.images-amazon.com/images/I/416iAbX85ML._AC_US160_.jpg',\n",
       " 'http://ecx.images-amazon.com/images/I/31hiTzEvK7L._AC_US160_.jpg',\n",
       " 'http://ecx.images-amazon.com/images/I/31ytViyzVHL._AC_US160_.jpg',\n",
       " 'http://ecx.images-amazon.com/images/I/310TryF0O6L._AC_US160_.jpg',\n",
       " 'http://ecx.images-amazon.com/images/I/21azCnL6IfL._AC_US160_.jpg',\n",
       " 'http://ecx.images-amazon.com/images/I/41sqpwRMy-L._AC_US160_.jpg',\n",
       " 'http://ecx.images-amazon.com/images/I/41bU3YsekPL._AC_US160_.jpg',\n",
       " 'http://ecx.images-amazon.com/images/I/41X6EP4vRML._AC_US160_.jpg',\n",
       " 'http://ecx.images-amazon.com/images/I/41rBbYsK8-L._AC_US160_.jpg']"
      ]
     },
     "execution_count": 13,
     "metadata": {},
     "output_type": "execute_result"
    }
   ],
   "source": [
    "images = tree.xpath('//img[@class=\"s-access-image cfMarker\"]/@src')\n",
    "\n",
    "images"
   ]
  },
  {
   "cell_type": "code",
   "execution_count": 16,
   "metadata": {
    "collapsed": false
   },
   "outputs": [
    {
     "data": {
      "text/plain": [
       "['990.00',\n",
       " '349.00',\n",
       " '1,300.00',\n",
       " '1,299.00',\n",
       " '146.00',\n",
       " '449.00',\n",
       " '199.00',\n",
       " '1,999.00',\n",
       " '295.00',\n",
       " '2,190.00',\n",
       " '349.00',\n",
       " '2,999.00',\n",
       " '1,990.00',\n",
       " '1,999.00',\n",
       " '2,490.00',\n",
       " '1,490.00',\n",
       " '1,399.00',\n",
       " '1,099.00',\n",
       " '649.00',\n",
       " '449.00',\n",
       " '2,990.00',\n",
       " '699.00',\n",
       " '499.00',\n",
       " '1,390.00']"
      ]
     },
     "execution_count": 16,
     "metadata": {},
     "output_type": "execute_result"
    }
   ],
   "source": [
    "orig_p = tree.xpath('//span[@class=\"a-size-small a-color-secondary a-text-strike\"]/text()')\n",
    "orig_p"
   ]
  },
  {
   "cell_type": "code",
   "execution_count": 17,
   "metadata": {
    "collapsed": false
   },
   "outputs": [
    {
     "name": "stdout",
     "output_type": "stream",
     "text": [
      "24 24 24 24\n"
     ]
    }
   ],
   "source": [
    "print len(product), len(prices), len(images), len(orig_p)"
   ]
  },
  {
   "cell_type": "code",
   "execution_count": 25,
   "metadata": {
    "collapsed": false
   },
   "outputs": [
    {
     "data": {
      "text/plain": [
       "[('Sennheiser CX 180 Street II In-Ear Headphone  (Black)',\n",
       "  '809.00',\n",
       "  'http://ecx.images-amazon.com/images/I/31LPmQMJm0L._AC_US160_.jpg',\n",
       "  '990.00'),\n",
       " ('Philips SHE1405BK/94 In-Ear Headphone Headset With Mic - Black',\n",
       "  '249.00',\n",
       "  'http://ecx.images-amazon.com/images/I/41TqRAgnxsL._AC_US160_.jpg',\n",
       "  '349.00'),\n",
       " ('Sony MDR-ZX110A On-Ear Stereo Headphones (White)',\n",
       "  '539.00',\n",
       "  'http://ecx.images-amazon.com/images/I/31NHZs+yi7L._AC_US160_.jpg',\n",
       "  '1,300.00'),\n",
       " ('JBL C100SI In-Ear Headphones with Mic (Black)',\n",
       "  '905.00',\n",
       "  'http://ecx.images-amazon.com/images/I/21vZXb-pU9L._AC_US160_.jpg',\n",
       "  '1,299.00'),\n",
       " ('Philips SHE1360/97 In-Ear Headphone  (Black)',\n",
       "  '101.00',\n",
       "  'http://ecx.images-amazon.com/images/I/41KNvJhpjoL._AC_US160_.jpg',\n",
       "  '146.00'),\n",
       " ('Philips SHE1455BK In-Ear Headphone With Mic (Black)',\n",
       "  '289.00',\n",
       "  'http://ecx.images-amazon.com/images/I/315eP5oeRbL._AC_US160_.jpg',\n",
       "  '449.00'),\n",
       " ('Philips SHE1350 In-Ear Headphones (Black)',\n",
       "  '96.00',\n",
       "  'http://ecx.images-amazon.com/images/I/41L4z7UguhL._AC_US160_.jpg',\n",
       "  '199.00'),\n",
       " ('JBL C150SI In-ear earphone (Black)',\n",
       "  '825.00',\n",
       "  'http://ecx.images-amazon.com/images/I/21vZXb-pU9L._AC_US160_.jpg',\n",
       "  '1,999.00'),\n",
       " ('Philips SBCHL140/98 On-Ear Headphone (Grey)',\n",
       "  '264.00',\n",
       "  'http://ecx.images-amazon.com/images/I/31xhpXjSZaL._AC_US160_.jpg',\n",
       "  '295.00'),\n",
       " ('Sennheiser CX 275 S In -Ear Universal Mobile Headphone With Mic (Black)',\n",
       "  '1,639.00',\n",
       "  'http://ecx.images-amazon.com/images/I/419Mt+rdVfL._AC_US160_.jpg',\n",
       "  '2,190.00'),\n",
       " ('Philips SHE1405WT/94 In-Ear Headphone  with Mic (White)',\n",
       "  '302.00',\n",
       "  'http://ecx.images-amazon.com/images/I/312UcLAjRuL._AC_US160_.jpg',\n",
       "  '349.00'),\n",
       " ('JBL C300SI On-Ear Dynamic Wired Headphones (Black Color)',\n",
       "  '819.00',\n",
       "  'http://ecx.images-amazon.com/images/I/41euzLv5dsL._AC_US160_.jpg',\n",
       "  '2,999.00'),\n",
       " ('House of Marley Smile Jamaica EM-JE041-SB In-Ear Headphones (Black) with Mic',\n",
       "  '999.00',\n",
       "  'http://ecx.images-amazon.com/images/I/41vnm9Km26L._AC_US160_.jpg',\n",
       "  '1,990.00'),\n",
       " ('JBL T-200 A In the Ear Headphone (Black)',\n",
       "  '1,085.00',\n",
       "  'http://ecx.images-amazon.com/images/I/3139-mTqlML._AC_US160_.jpg',\n",
       "  '1,999.00'),\n",
       " ('Sennheiser HD 202 II Professional Over-Ear Headphone (Black)',\n",
       "  '1,699.00',\n",
       "  'http://ecx.images-amazon.com/images/I/41EOdcYqT3L._AC_US160_.jpg',\n",
       "  '2,490.00'),\n",
       " ('Sony MDR-XB250 On-Ear EXTRA BASS Headphones (Black)',\n",
       "  '999.00',\n",
       "  'http://ecx.images-amazon.com/images/I/416iAbX85ML._AC_US160_.jpg',\n",
       "  '1,490.00'),\n",
       " ('Skullcandy SCS2RFDA-074 In-Ear Headphone With Mic (Black and White)',\n",
       "  '899.00',\n",
       "  'http://ecx.images-amazon.com/images/I/31hiTzEvK7L._AC_US160_.jpg',\n",
       "  '1,399.00'),\n",
       " ('Skullcandy S2DUL-J319 In-Ear Headphones with Mic (Lime/Grey)',\n",
       "  '699.00',\n",
       "  'http://ecx.images-amazon.com/images/I/31ytViyzVHL._AC_US160_.jpg',\n",
       "  '1,099.00'),\n",
       " ('Philips SHQ1200 ActionFit Sports In-Ear Headphones, Orange and Grey',\n",
       "  '519.00',\n",
       "  'http://ecx.images-amazon.com/images/I/310TryF0O6L._AC_US160_.jpg',\n",
       "  '649.00'),\n",
       " ('Philips SHE1455WT In-Ear Headphone With Mic (White)',\n",
       "  '302.00',\n",
       "  'http://ecx.images-amazon.com/images/I/21azCnL6IfL._AC_US160_.jpg',\n",
       "  '449.00'),\n",
       " ('Sony MDR-XB50AP In-Ear EXTRA BASS Headphones with Mic (Black)',\n",
       "  '1,809.00',\n",
       "  'http://ecx.images-amazon.com/images/I/41sqpwRMy-L._AC_US160_.jpg',\n",
       "  '2,990.00'),\n",
       " ('Philips SHP1900/97 Over-Ear Stereo Headphone (Black)',\n",
       "  '448.00',\n",
       "  'http://ecx.images-amazon.com/images/I/41bU3YsekPL._AC_US160_.jpg',\n",
       "  '699.00'),\n",
       " ('Philips SHS390 On-Ear Stereo Headphone  (Black)',\n",
       "  '349.00',\n",
       "  'http://ecx.images-amazon.com/images/I/41X6EP4vRML._AC_US160_.jpg',\n",
       "  '499.00'),\n",
       " ('Sony MDR-ZX110 On-Ear Stereo Headphones (Black)',\n",
       "  '789.00',\n",
       "  'http://ecx.images-amazon.com/images/I/41rBbYsK8-L._AC_US160_.jpg',\n",
       "  '1,390.00')]"
      ]
     },
     "execution_count": 25,
     "metadata": {},
     "output_type": "execute_result"
    }
   ],
   "source": [
    "records = [ ]\n",
    "\n",
    "for i in range(len(product)):\n",
    "    temp = (product[i], prices[i], images[i], orig_p[i])\n",
    "    records.append(temp)\n",
    "    \n",
    "records"
   ]
  },
  {
   "cell_type": "code",
   "execution_count": 26,
   "metadata": {
    "collapsed": false
   },
   "outputs": [
    {
     "data": {
      "text/plain": [
       "24"
      ]
     },
     "execution_count": 26,
     "metadata": {},
     "output_type": "execute_result"
    }
   ],
   "source": [
    "len(records)"
   ]
  },
  {
   "cell_type": "code",
   "execution_count": null,
   "metadata": {
    "collapsed": true
   },
   "outputs": [],
   "source": []
  }
 ],
 "metadata": {
  "kernelspec": {
   "display_name": "Python 2",
   "language": "python",
   "name": "python2"
  },
  "language_info": {
   "codemirror_mode": {
    "name": "ipython",
    "version": 2
   },
   "file_extension": ".py",
   "mimetype": "text/x-python",
   "name": "python",
   "nbconvert_exporter": "python",
   "pygments_lexer": "ipython2",
   "version": "2.7.12"
  }
 },
 "nbformat": 4,
 "nbformat_minor": 1
}
