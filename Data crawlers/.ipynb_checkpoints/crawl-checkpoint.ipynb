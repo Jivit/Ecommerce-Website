{
 "cells": [
  {
   "cell_type": "code",
   "execution_count": 66,
   "metadata": {
    "collapsed": false
   },
   "outputs": [],
   "source": [
    "from lxml import html\n",
    "import requests"
   ]
  },
  {
   "cell_type": "code",
   "execution_count": 67,
   "metadata": {
    "collapsed": false
   },
   "outputs": [],
   "source": [
    "page2 = requests.get('http://www.amazon.in/b?ie=UTF8&node=1388921031')\n",
    "tree2 = html.fromstring(page2.content)"
   ]
  },
  {
   "cell_type": "code",
   "execution_count": 68,
   "metadata": {
    "collapsed": false
   },
   "outputs": [
    {
     "data": {
      "text/plain": [
       "['Sennheiser CX 180 Street II In-Ear Headphone  (Black)',\n",
       " 'Philips SHE1405BK/94 In-Ear Headphone Headset With Mic - Black',\n",
       " 'Sony MDR-ZX110A On-Ear Stereo Headphones (White)',\n",
       " 'JBL C100SI In-Ear Headphones with Mic (Black)',\n",
       " 'Philips SHE1360/97 In-Ear Headphone  (Black)',\n",
       " 'Philips SHE1455BK In-Ear Headphone With Mic (Black)',\n",
       " 'Philips SHE1350 In-Ear Headphones (Black)',\n",
       " 'JBL C150SI In-ear earphone (Black)',\n",
       " 'Philips SBCHL140/98 On-Ear Headphone (Grey)',\n",
       " 'Sennheiser CX 275 S In -Ear Universal Mobile Headphone With Mic (Black)',\n",
       " 'Philips SHE1405WT/94 In-Ear Headphone  with Mic (White)',\n",
       " 'JBL C300SI On-Ear Dynamic Wired Headphones (Black Color)',\n",
       " 'House of Marley Smile Jamaica EM-JE041-SB In-Ear Headphones (Black) with Mic',\n",
       " 'JBL T-200 A In the Ear Headphone (Black)',\n",
       " 'Sennheiser HD 202 II Professional Over-Ear Headphone (Black)',\n",
       " 'Sony MDR-XB250 On-Ear EXTRA BASS Headphones (Black)',\n",
       " 'Skullcandy SCS2RFDA-074 In-Ear Headphone With Mic (Black and White)',\n",
       " 'Skullcandy S2DUL-J319 In-Ear Headphones with Mic (Lime/Grey)',\n",
       " 'Philips SHQ1200 ActionFit Sports In-Ear Headphones, Orange and Grey',\n",
       " 'Philips SHE1455WT In-Ear Headphone With Mic (White)',\n",
       " 'Sony MDR-XB50AP In-Ear EXTRA BASS Headphones with Mic (Black)',\n",
       " 'Philips SHP1900/97 Over-Ear Stereo Headphone (Black)',\n",
       " 'Philips SHS390 On-Ear Stereo Headphone  (Black)',\n",
       " 'Sony MDR-ZX110 On-Ear Stereo Headphones (Black)']"
      ]
     },
     "execution_count": 68,
     "metadata": {},
     "output_type": "execute_result"
    }
   ],
   "source": [
    "product2 = tree2.xpath('//h2[@class=\"a-size-base a-color-null s-inline  s-access-title  a-text-normal\"]/text()')\n",
    "prices2 = tree2.xpath('//span[@class=\"a-size-base a-color-price s-price a-text-bold\"]/text()')\n",
    "\n",
    "product2"
   ]
  },
  {
   "cell_type": "code",
   "execution_count": 69,
   "metadata": {
    "collapsed": false
   },
   "outputs": [
    {
     "data": {
      "text/plain": [
       "['809.00',\n",
       " '249.00',\n",
       " '539.00',\n",
       " '905.00',\n",
       " '101.00',\n",
       " '289.00',\n",
       " '96.00',\n",
       " '825.00',\n",
       " '264.00',\n",
       " '1,639.00',\n",
       " '302.00',\n",
       " '819.00',\n",
       " '999.00',\n",
       " '1,085.00',\n",
       " '1,699.00',\n",
       " '999.00',\n",
       " '899.00',\n",
       " '699.00',\n",
       " '519.00',\n",
       " '302.00',\n",
       " '1,939.00',\n",
       " '448.00',\n",
       " '349.00',\n",
       " '789.00']"
      ]
     },
     "execution_count": 69,
     "metadata": {},
     "output_type": "execute_result"
    }
   ],
   "source": [
    "prices2"
   ]
  },
  {
   "cell_type": "code",
   "execution_count": 70,
   "metadata": {
    "collapsed": false
   },
   "outputs": [
    {
     "data": {
      "text/plain": [
       "['http://ecx.images-amazon.com/images/I/31LPmQMJm0L._AC_US160_.jpg',\n",
       " 'http://ecx.images-amazon.com/images/I/41TqRAgnxsL._AC_US160_.jpg',\n",
       " 'http://ecx.images-amazon.com/images/I/31NHZs+yi7L._AC_US160_.jpg',\n",
       " 'http://ecx.images-amazon.com/images/I/21vZXb-pU9L._AC_US160_.jpg',\n",
       " 'http://ecx.images-amazon.com/images/I/41KNvJhpjoL._AC_US160_.jpg',\n",
       " 'http://ecx.images-amazon.com/images/I/315eP5oeRbL._AC_US160_.jpg',\n",
       " 'http://ecx.images-amazon.com/images/I/41L4z7UguhL._AC_US160_.jpg',\n",
       " 'http://ecx.images-amazon.com/images/I/21vZXb-pU9L._AC_US160_.jpg',\n",
       " 'http://ecx.images-amazon.com/images/I/31xhpXjSZaL._AC_US160_.jpg',\n",
       " 'http://ecx.images-amazon.com/images/I/419Mt+rdVfL._AC_US160_.jpg',\n",
       " 'http://ecx.images-amazon.com/images/I/312UcLAjRuL._AC_US160_.jpg',\n",
       " 'http://ecx.images-amazon.com/images/I/41euzLv5dsL._AC_US160_.jpg',\n",
       " 'http://ecx.images-amazon.com/images/I/41vnm9Km26L._AC_US160_.jpg',\n",
       " 'http://ecx.images-amazon.com/images/I/3139-mTqlML._AC_US160_.jpg',\n",
       " 'http://ecx.images-amazon.com/images/I/41EOdcYqT3L._AC_US160_.jpg',\n",
       " 'http://ecx.images-amazon.com/images/I/416iAbX85ML._AC_US160_.jpg',\n",
       " 'http://ecx.images-amazon.com/images/I/31hiTzEvK7L._AC_US160_.jpg',\n",
       " 'http://ecx.images-amazon.com/images/I/31ytViyzVHL._AC_US160_.jpg',\n",
       " 'http://ecx.images-amazon.com/images/I/310TryF0O6L._AC_US160_.jpg',\n",
       " 'http://ecx.images-amazon.com/images/I/21azCnL6IfL._AC_US160_.jpg',\n",
       " 'http://ecx.images-amazon.com/images/I/41sqpwRMy-L._AC_US160_.jpg',\n",
       " 'http://ecx.images-amazon.com/images/I/41bU3YsekPL._AC_US160_.jpg',\n",
       " 'http://ecx.images-amazon.com/images/I/41X6EP4vRML._AC_US160_.jpg',\n",
       " 'http://ecx.images-amazon.com/images/I/41rBbYsK8-L._AC_US160_.jpg']"
      ]
     },
     "execution_count": 70,
     "metadata": {},
     "output_type": "execute_result"
    }
   ],
   "source": [
    "images2 = tree2.xpath('//img[@class=\"s-access-image cfMarker\"]/@src')\n",
    "\n",
    "images2"
   ]
  },
  {
   "cell_type": "code",
   "execution_count": 71,
   "metadata": {
    "collapsed": false
   },
   "outputs": [
    {
     "data": {
      "text/plain": [
       "['990.00',\n",
       " '349.00',\n",
       " '1,300.00',\n",
       " '1,299.00',\n",
       " '146.00',\n",
       " '449.00',\n",
       " '199.00',\n",
       " '1,999.00',\n",
       " '295.00',\n",
       " '2,190.00',\n",
       " '349.00',\n",
       " '2,999.00',\n",
       " '1,990.00',\n",
       " '1,999.00',\n",
       " '2,490.00',\n",
       " '1,490.00',\n",
       " '1,399.00',\n",
       " '1,099.00',\n",
       " '649.00',\n",
       " '449.00',\n",
       " '2,990.00',\n",
       " '699.00',\n",
       " '499.00',\n",
       " '1,390.00']"
      ]
     },
     "execution_count": 71,
     "metadata": {},
     "output_type": "execute_result"
    }
   ],
   "source": [
    "discount2 = tree2.xpath('//span[@class=\"a-size-small a-color-secondary a-text-strike\"]/text()')\n",
    "discount2"
   ]
  },
  {
   "cell_type": "code",
   "execution_count": 72,
   "metadata": {
    "collapsed": false
   },
   "outputs": [
    {
     "name": "stdout",
     "output_type": "stream",
     "text": [
      "24 24 24 24\n"
     ]
    }
   ],
   "source": [
    "print len(product2), len(prices2), len(images2), len(discount2)"
   ]
  }
 ],
 "metadata": {
  "kernelspec": {
   "display_name": "Python 2",
   "language": "python",
   "name": "python2"
  },
  "language_info": {
   "codemirror_mode": {
    "name": "ipython",
    "version": 2
   },
   "file_extension": ".py",
   "mimetype": "text/x-python",
   "name": "python",
   "nbconvert_exporter": "python",
   "pygments_lexer": "ipython2",
   "version": "2.7.12"
  }
 },
 "nbformat": 4,
 "nbformat_minor": 1
}
